{
 "cells": [
  {
   "cell_type": "code",
   "execution_count": 7,
   "id": "c7415f7a-9e02-4253-afc2-3034803c8b11",
   "metadata": {},
   "outputs": [],
   "source": [
    "from label_encoding import decode_label, encode_label"
   ]
  },
  {
   "cell_type": "code",
   "execution_count": 8,
   "id": "a1fde4cc-9979-4579-ace6-8884b2e098c7",
   "metadata": {},
   "outputs": [
    {
     "name": "stdout",
     "output_type": "stream",
     "text": [
      "1c\n",
      "[1, '0', '0', '0', 1, '0', '0', '0', '0']\n",
      "2d\n",
      "[2, '0', '0', '0', '0', 1, '0', '0', '0']\n",
      "3h\n",
      "[3, '0', '0', '0', '0', '0', 1, '0', '0']\n",
      "4s\n",
      "[4, '0', '0', '0', '0', '0', '0', 1, '0']\n",
      "7n\n",
      "[7, '0', '0', '0', '0', '0', '0', '0', 1]\n",
      "p\n",
      "[0, 1, '0', '0', '0', '0', '0', '0', '0']\n",
      "d\n",
      "[0, '0', 1, '0', '0', '0', '0', '0', '0']\n",
      "r\n",
      "[0, '0', '0', 1, '0', '0', '0', '0', '0']\n",
      "[[1, '0', '0', '0', 1, '0', '0', '0', '0'], [2, '0', '0', '0', '0', 1, '0', '0', '0'], [3, '0', '0', '0', '0', '0', 1, '0', '0'], [4, '0', '0', '0', '0', '0', '0', 1, '0'], [7, '0', '0', '0', '0', '0', '0', '0', 1], [0, 1, '0', '0', '0', '0', '0', '0', '0'], [0, '0', 1, '0', '0', '0', '0', '0', '0'], [0, '0', '0', 1, '0', '0', '0', '0', '0']]\n"
     ]
    }
   ],
   "source": [
    "import csv\n",
    "import pandas as pd\n",
    "df = pd.read_csv(\"./牌局/test.csv\")\n",
    "result = decode_label(encode_label(df.iloc[:, 0], 1), 1)\n",
    "df = pd.read_csv(\"./牌局/test.csv\")\n",
    "df[\"\"] = result\n",
    "df.to_csv(\"./牌局/test.csv\", index=False)"
   ]
  },
  {
   "cell_type": "code",
   "execution_count": 9,
   "id": "b1c73a30-a295-40ac-a971-2008016ef130",
   "metadata": {},
   "outputs": [
    {
     "name": "stdout",
     "output_type": "stream",
     "text": [
      "1c\n",
      "[1, '0', '0', '0', 1, '0', '0', '0', '0']\n",
      "2d\n",
      "[2, '0', '0', '0', '0', 1, '0', '0', '0']\n",
      "3h\n",
      "[3, '0', '0', '0', '0', '0', 1, '0', '0']\n",
      "4s\n",
      "[4, '0', '0', '0', '0', '0', '0', 1, '0']\n",
      "7n\n",
      "[7, '0', '0', '0', '0', '0', '0', '0', 1]\n",
      "p\n",
      "[0, 1, '0', '0', '0', '0', '0', '0', '0']\n",
      "d\n",
      "[0, '0', 1, '0', '0', '0', '0', '0', '0']\n",
      "r\n",
      "[0, '0', '0', 1, '0', '0', '0', '0', '0']\n",
      "[[1, '0', '0', '0', 1, '0', '0', '0', '0'], [2, '0', '0', '0', '0', 1, '0', '0', '0'], [3, '0', '0', '0', '0', '0', 1, '0', '0'], [4, '0', '0', '0', '0', '0', '0', 1, '0'], [7, '0', '0', '0', '0', '0', '0', '0', 1], [0, 1, '0', '0', '0', '0', '0', '0', '0'], [0, '0', 1, '0', '0', '0', '0', '0', '0'], [0, '0', '0', 1, '0', '0', '0', '0', '0']]\n"
     ]
    }
   ],
   "source": [
    "result = encode_label(df.iloc[:, 0], 1)\n",
    "\n",
    "df = pd.read_csv(\"./牌局/test.csv\")\n",
    "new_columns = ['label:lv', 'label:p', 'label:dbl', 'label:rdbl', 'label:c', 'label:', 'label:h', 'label:s']\n",
    "\n",
    "for i, new_column in enumerate(new_columns):\n",
    "    df[new_column] = [sublist[i] for sublist in result]\n",
    "df.to_csv(\"./牌局/test.csv\", index=False)"
   ]
  },
  {
   "cell_type": "code",
   "execution_count": null,
   "id": "560bfe4c-9405-4396-9e8b-3bc433f02887",
   "metadata": {},
   "outputs": [],
   "source": []
  }
 ],
 "metadata": {
  "kernelspec": {
   "display_name": "Python 3 (ipykernel)",
   "language": "python",
   "name": "python3"
  },
  "language_info": {
   "codemirror_mode": {
    "name": "ipython",
    "version": 3
   },
   "file_extension": ".py",
   "mimetype": "text/x-python",
   "name": "python",
   "nbconvert_exporter": "python",
   "pygments_lexer": "ipython3",
   "version": "3.10.12"
  }
 },
 "nbformat": 4,
 "nbformat_minor": 5
}
